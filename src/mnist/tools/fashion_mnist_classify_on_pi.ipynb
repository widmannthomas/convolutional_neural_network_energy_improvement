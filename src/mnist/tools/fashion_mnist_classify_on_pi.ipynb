{
 "cells": [
  {
   "cell_type": "code",
   "execution_count": 2,
   "metadata": {},
   "outputs": [],
   "source": [
    "import serial\n",
    "import serial.tools.list_ports\n",
    "import time\n",
    "import json\n",
    "import io\n",
    "import struct\n",
    "import numpy as np\n",
    "import pandas as pd\n",
    "import tensorflow as tf\n",
    "from tensorflow import keras\n",
    "import matplotlib.pyplot as plt\n",
    "import pathlib\n",
    "from PIL import Image"
   ]
  },
  {
   "cell_type": "code",
   "execution_count": 3,
   "metadata": {},
   "outputs": [],
   "source": [
    "batch_size = 32\n",
    "img_height = 28\n",
    "img_width = 28\n",
    "img_channel = 1\n",
    "number_of_classes = 10"
   ]
  },
  {
   "cell_type": "code",
   "execution_count": 4,
   "metadata": {},
   "outputs": [],
   "source": [
    "load_data_result = tf.keras.datasets.fashion_mnist.load_data()\n",
    "class_names = ['T-shirt/top', 'Trouser', 'Pullover', 'Dress', 'Coat',\n",
    "               'Sandal', 'Shirt', 'Sneaker', 'Bag', 'Ankle boot']"
   ]
  },
  {
   "cell_type": "code",
   "execution_count": 5,
   "metadata": {},
   "outputs": [
    {
     "name": "stdout",
     "output_type": "stream",
     "text": [
      "[0. 0. 0. 0. 0. 0. 0. 0. 0. 1.]\n"
     ]
    }
   ],
   "source": [
    "fashion_mnist = tf.keras.datasets.fashion_mnist\n",
    "(train_images, train_labels), (test_images, test_labels) = fashion_mnist.load_data()\n",
    "\n",
    "# reshape dataset to have a single channel\n",
    "train_images = train_images.reshape((train_images.shape[0], 28, 28, 1))\n",
    "test_images = test_images.reshape((test_images.shape[0], 28, 28, 1))\n",
    "\n",
    "train_labels = keras.utils.to_categorical(train_labels)\n",
    "test_labels = keras.utils.to_categorical(test_labels)\n",
    "\n",
    "print(train_labels[0])"
   ]
  },
  {
   "cell_type": "code",
   "execution_count": 132,
   "metadata": {},
   "outputs": [
    {
     "name": "stdout",
     "output_type": "stream",
     "text": [
      "cu.wlan-debug\n",
      "cu.Bluetooth-Incoming-Port\n"
     ]
    }
   ],
   "source": [
    "ports = serial.tools.list_ports.comports()\n",
    "\n",
    "for __port in ports:\n",
    "    print(__port.name)"
   ]
  },
  {
   "cell_type": "code",
   "execution_count": 231,
   "metadata": {},
   "outputs": [],
   "source": [
    "#port = serial.Serial(\"/dev/cu.usbmodem101\", baudrate=115200, timeout=1)\n",
    "port = serial.Serial(\"/dev/cu.usbmodem401101\", baudrate=115200, timeout=1)"
   ]
  },
  {
   "cell_type": "code",
   "execution_count": 185,
   "metadata": {},
   "outputs": [],
   "source": [
    "port.close()\n",
    "port.open()"
   ]
  },
  {
   "cell_type": "code",
   "execution_count": 232,
   "metadata": {},
   "outputs": [
    {
     "data": {
      "text/plain": [
       "b''"
      ]
     },
     "execution_count": 232,
     "metadata": {},
     "output_type": "execute_result"
    }
   ],
   "source": [
    "port.read_all()"
   ]
  },
  {
   "cell_type": "code",
   "execution_count": 11,
   "metadata": {},
   "outputs": [],
   "source": [
    "def send_request_classify_image():\n",
    "    img_size = img_width * img_height * img_channel * 4\n",
    "    command = {\"command\":0, \"ds\":img_size, \"repeat\": 1}\n",
    "    command_json = json.dumps(command)\n",
    "    print(command_json)\n",
    "\n",
    "    command_json += \"\\n\"\n",
    "    port.write(command_json.encode())\n",
    "    time.sleep(0.1)\n",
    "\n",
    "    print(port.read_all())"
   ]
  },
  {
   "cell_type": "code",
   "execution_count": 12,
   "metadata": {},
   "outputs": [],
   "source": [
    "def convert_float_list_to_bytes(data):\n",
    "    data_bytes = []\n",
    "    for dat in data:\n",
    "        bytes_ = list(struct.pack(\"!f\", dat))\n",
    "        bytes_.reverse()\n",
    "        data_bytes.extend(bytes_)\n",
    "\n",
    "    return data_bytes"
   ]
  },
  {
   "cell_type": "code",
   "execution_count": 13,
   "metadata": {},
   "outputs": [
    {
     "name": "stdout",
     "output_type": "stream",
     "text": [
      "(784,)\n",
      "3136\n"
     ]
    },
    {
     "data": {
      "text/plain": [
       "<matplotlib.image.AxesImage at 0x7fa5b96f3850>"
      ]
     },
     "execution_count": 13,
     "metadata": {},
     "output_type": "execute_result"
    },
    {
     "data": {
      "image/png": "[encoded data removed]",
      "text/plain": [
       "<Figure size 432x288 with 1 Axes>"
      ]
     },
     "metadata": {
      "needs_background": "light"
     },
     "output_type": "display_data"
    }
   ],
   "source": [
    "image_plain = train_images[0]\n",
    "image = np.float32(image_plain).reshape(img_width * img_height * img_channel)\n",
    "print(np.shape(image))\n",
    "image_bytes = convert_float_list_to_bytes(image)\n",
    "print(len(image_bytes))\n",
    "\n",
    "plt.imshow(image_plain)"
   ]
  },
  {
   "cell_type": "code",
   "execution_count": 14,
   "metadata": {},
   "outputs": [],
   "source": [
    "def create_image_bytes(k):\n",
    "    image = np.float32(train_images[k])\n",
    "    image_label = train_labels[k]\n",
    "    image = image.reshape(28*28,)\n",
    "    print(np.shape(image))\n",
    "    image_bytes = convert_float_list_to_bytes(image)\n",
    "    print(len(image_bytes))\n",
    "    return (image_bytes, image_label)"
   ]
  },
  {
   "cell_type": "code",
   "execution_count": 19,
   "metadata": {},
   "outputs": [],
   "source": [
    "def send_image_to_classify(image_bytes):\n",
    "    port.write(image_bytes)\n",
    "\n",
    "    time.sleep(2)\n",
    "\n",
    "    timing_samples = []\n",
    "\n",
    "    while(True):\n",
    "        lineData = port.readline()\n",
    "        line = str(lineData)\n",
    "\n",
    "        if len(lineData) == 0:\n",
    "            break\n",
    "\n",
    "        lineJsonData = io.BytesIO(lineData)\n",
    "        try:\n",
    "            lineJson = json.load(lineJsonData)\n",
    "            print(lineJson)\n",
    "            if lineJson[\"type\"] == 1:\n",
    "                data = lineJson[\"payload\"][\"data\"]\n",
    "                for sample in data:\n",
    "                    timing_samples.append(sample[\"time_us\"])\n",
    "                    print(\"Time:\", sample[\"time_us\"] / 1000, \"ms\")\n",
    "        except:\n",
    "            print(\"No json line:\", line)\n",
    "            \n",
    "            #print(lineJson)\n",
    "\n",
    "    timing_samples = np.array(timing_samples)\n",
    "\n",
    "    pd.DataFrame(timing_samples).describe()"
   ]
  },
  {
   "cell_type": "code",
   "execution_count": 233,
   "metadata": {},
   "outputs": [
    {
     "name": "stdout",
     "output_type": "stream",
     "text": [
      "{\"command\": 0, \"ds\": 3136, \"repeat\": 1}\n",
      "b'{\"payload\":\"[1] Received {\\\\\"command\\\\\": 0, \\\\\"ds\\\\\": 3136, \\\\\"repeat\\\\\": 1}\\\\n\\\\n\",\"type\":0}\\r\\n{\"payload\":\"[2] Received command with type: 0\\\\n\",\"type\":0}\\r\\n{\"payload\":\"[2] New state: 3\\\\n\",\"type\":0}\\r\\n'\n",
      "(784,)\n",
      "3136\n",
      "{'payload': '[2] Received data\\n', 'type': 0}\n",
      "{'payload': '[2] New state: 4\\n', 'type': 0}\n",
      "{'payload': '[2] New state: 5\\n', 'type': 0}\n",
      "{'payload': {'data': [{'probabilities': [0.10250141471624374, 0.08887112885713577, 0.1041807308793068, 0.10907047986984253, 0.08820430934429169, 0.08318603783845901, 0.1092618927359581, 0.10860847681760788, 0.10703395307064056, 0.09908152371644974], 'time_us': 128985}]}, 'type': 1}\n",
      "Time: 128.985 ms\n",
      "{'payload': '[2] New state: 2\\n', 'type': 0}\n",
      "Y: [0. 0. 0. 0. 0. 0. 0. 0. 0. 1.]\n"
     ]
    }
   ],
   "source": [
    "send_request_classify_image()\n",
    "(image_bytes, image_label) = create_image_bytes(3)\n",
    "send_image_to_classify(image_bytes)\n",
    "print(\"Y:\", image_label)"
   ]
  },
  {
   "cell_type": "markdown",
   "metadata": {},
   "source": [
    "# CR 32\n",
    "\n",
    "{'payload': {'data': [{'probabilities': [0.36499977111816406, 0.053862061351537704, 0.00036528994678519666, 0.45516732335090637, 0.005947269964963198, 1.5158089809119701e-05, 0.11882230639457703, 3.7024791565976045e-10, 0.0008207294740714133, 8.713860921716332e-08], 'time_us': 1356765}]}, 'type': 1}\n",
    "Time: 1356.765 ms\n",
    "\n",
    "## Conv only\n",
    "\n",
    "#### Comparing float:\n",
    "```\n",
    "if(filter_value != 0)\n",
    "{\n",
    "}\n",
    "```\n",
    "{'payload': {'data': [{'probabilities': [0.36499977111816406, 0.053862061351537704, 0.00036528994678519666, 0.45516732335090637, 0.005947269964963198, 1.5158089809119701e-05, 0.11882230639457703, 3.7024791565976045e-10, 0.0008207294740714133, 8.713860921716332e-08], 'time_us': 967486}]}, 'type': 1}\n",
    "Time: 967.486 ms\n",
    "\n",
    "{'payload': {'data': [{'probabilities': [0.013979465700685978, 0.00048780167708173394, 0.0012296761851757765, 0.00023730166140012443, 0.00019620124658104032, 0.004381695296615362, 0.8750729560852051, 1.3949943422630895e-09, 0.10441488027572632, 5.301180383554538e-09], 'time_us': 811976}]}, 'type': 1}\n",
    "Time: 811.976 ms\n",
    "\n",
    "#### Comparing exponent only:\n",
    "```\n",
    "if(*(char*)&filter_value != 0)\n",
    "{\n",
    "}\n",
    "```\n",
    "{'payload': {'data': [{'probabilities': [0.36499977111816406, 0.053862061351537704, 0.00036528994678519666, 0.45516732335090637, 0.005947269964963198, 1.5158089809119701e-05, 0.11882230639457703, 3.7024791565976045e-10, 0.0008207294740714133, 8.713860921716332e-08], 'time_us': 752577}]}, 'type': 1}\n",
    "Time: 752.577 ms\n",
    "\n",
    "## Conv and Dense\n",
    "\n",
    "#### Comparing exponent only:\n",
    "{'payload': {'data': [{'probabilities': [0.36503323912620544, 0.053775303065776825, 0.00036532344529405236, 0.45520904660224915, 0.005947815719991922, 1.5118102055566851e-05, 0.11883319914340973, 3.7028186072873837e-10, 0.0008208047365769744, 8.714659571751326e-08], 'time_us': 619878}]}, 'type': 1}\n",
    "Time: 619.878 ms"
   ]
  },
  {
   "cell_type": "markdown",
   "metadata": {},
   "source": []
  }
 ],
 "metadata": {
  "interpreter": {
   "hash": "0d1cd94cfed04ad9427ef807a2ad11acb0c84f064da073693db7977f8eb74254"
  },
  "kernelspec": {
   "display_name": "Python 3.8.12 64-bit ('test': conda)",
   "language": "python",
   "name": "python3"
  },
  "language_info": {
   "codemirror_mode": {
    "name": "ipython",
    "version": 3
   },
   "file_extension": ".py",
   "mimetype": "text/x-python",
   "name": "python",
   "nbconvert_exporter": "python",
   "pygments_lexer": "ipython3",
   "version": "3.8.2"
  },
  "orig_nbformat": 4
 },
 "nbformat": 4,
 "nbformat_minor": 2
}
