{
 "cells": [
  {
   "cell_type": "code",
   "execution_count": 1,
   "metadata": {},
   "outputs": [],
   "source": [
    "import serial\n",
    "import serial.tools.list_ports\n",
    "import time\n",
    "import json\n",
    "import io\n",
    "import struct\n",
    "import numpy as np\n",
    "import pandas as pd\n",
    "import tensorflow as tf\n",
    "from tensorflow import keras\n",
    "import matplotlib.pyplot as plt\n",
    "import pathlib\n",
    "from PIL import Image"
   ]
  },
  {
   "cell_type": "code",
   "execution_count": 2,
   "metadata": {},
   "outputs": [],
   "source": [
    "batch_size = 32\n",
    "img_height = 32\n",
    "img_width = 32\n",
    "img_channel = 3\n",
    "color_mode=\"rgb\""
   ]
  },
  {
   "cell_type": "code",
   "execution_count": 3,
   "metadata": {},
   "outputs": [
    {
     "name": "stdout",
     "output_type": "stream",
     "text": [
      "Found 1384 files belonging to 4 classes.\n",
      "Using 1108 files for training.\n",
      "['cloudy', 'rain', 'shine', 'snow']\n"
     ]
    },
    {
     "name": "stderr",
     "output_type": "stream",
     "text": [
      "2022-03-23 20:44:16.509126: I tensorflow/core/platform/cpu_feature_guard.cc:142] This TensorFlow binary is optimized with oneAPI Deep Neural Network Library (oneDNN) to use the following CPU instructions in performance-critical operations:  SSE4.1 SSE4.2\n",
      "To enable them in other operations, rebuild TensorFlow with the appropriate compiler flags.\n"
     ]
    }
   ],
   "source": [
    "data_dir = pathlib.Path(\"../train/data/dataset2\")\n",
    "train_ds = tf.keras.preprocessing.image_dataset_from_directory(data_dir,\n",
    "                                                               validation_split=0.2,\n",
    "                                                               subset=\"training\",\n",
    "                                                               seed=123,\n",
    "                                                               image_size=(img_height, img_width),\n",
    "                                                               batch_size=batch_size,\n",
    "                                                               color_mode=color_mode)\n",
    "\n",
    "print(train_ds.class_names)"
   ]
  },
  {
   "cell_type": "code",
   "execution_count": 4,
   "metadata": {},
   "outputs": [
    {
     "name": "stdout",
     "output_type": "stream",
     "text": [
      "This is how a one-hot encoded 5 looks like\n",
      "[0. 0. 0. 0. 0. 1. 0. 0. 0. 0.]\n"
     ]
    }
   ],
   "source": [
    "with np.load('../train/mnist.npz') as f:\n",
    "    x_train, y_train = f['x_train'], f['y_train']\n",
    "\n",
    "x_train = x_train/255\n",
    "y_train = keras.utils.to_categorical(y_train)\n",
    "\n",
    "print('This is how a one-hot encoded 5 looks like')\n",
    "print(y_train[0])"
   ]
  },
  {
   "cell_type": "code",
   "execution_count": 5,
   "metadata": {},
   "outputs": [
    {
     "name": "stdout",
     "output_type": "stream",
     "text": [
      "cu.wlan-debug\n",
      "cu.Bluetooth-Incoming-Port\n",
      "cu.usbmodem1101\n"
     ]
    }
   ],
   "source": [
    "ports = serial.tools.list_ports.comports()\n",
    "\n",
    "for __port in ports:\n",
    "    print(__port.name)"
   ]
  },
  {
   "cell_type": "code",
   "execution_count": 6,
   "metadata": {},
   "outputs": [],
   "source": [
    "port = serial.Serial(\"/dev/cu.usbmodem1101\", baudrate=115200, timeout=1)"
   ]
  },
  {
   "cell_type": "code",
   "execution_count": 7,
   "metadata": {},
   "outputs": [
    {
     "data": {
      "text/plain": [
       "b''"
      ]
     },
     "execution_count": 7,
     "metadata": {},
     "output_type": "execute_result"
    }
   ],
   "source": [
    "port.read_all()"
   ]
  },
  {
   "cell_type": "code",
   "execution_count": 8,
   "metadata": {},
   "outputs": [
    {
     "name": "stdout",
     "output_type": "stream",
     "text": [
      "{\"command\": 0, \"ds\": 12288, \"repeat\": 1}\n",
      "b'{\"payload\":\"[1] Received {\\\\\"command\\\\\": 0, \\\\\"ds\\\\\": 12288, \\\\\"repeat\\\\\": 1}\\\\n\\\\n\",\"type\":0}\\r\\n{\"payload\":\"[2] Received command with type: 0\\\\n\",\"type\":0}\\r\\n{\"payload\":\"[2] New state: 3\\\\n\",\"type\":0}\\r\\n'\n"
     ]
    }
   ],
   "source": [
    "img_size = img_width * img_height * img_channel * 4\n",
    "command = {\"command\":0, \"ds\":img_size, \"repeat\": 1}\n",
    "command_json = json.dumps(command)\n",
    "print(command_json)\n",
    "\n",
    "command_json += \"\\n\"\n",
    "port.write(command_json.encode())\n",
    "time.sleep(0.1)\n",
    "\n",
    "print(port.read_all())"
   ]
  },
  {
   "cell_type": "code",
   "execution_count": 375,
   "metadata": {},
   "outputs": [],
   "source": [
    "port.close()\n",
    "port.open()"
   ]
  },
  {
   "cell_type": "code",
   "execution_count": 9,
   "metadata": {},
   "outputs": [],
   "source": [
    "def convert_float_list_to_bytes(data):\n",
    "    data_bytes = []\n",
    "    for dat in data:\n",
    "        bytes_ = list(struct.pack(\"!f\", dat))\n",
    "        bytes_.reverse()\n",
    "        data_bytes.extend(bytes_)\n",
    "\n",
    "    return data_bytes"
   ]
  },
  {
   "cell_type": "code",
   "execution_count": 97,
   "metadata": {},
   "outputs": [
    {
     "name": "stdout",
     "output_type": "stream",
     "text": [
      "{\"command\": 0, \"ds\": 12, \"repeat\": 1}\n",
      "b'{\"payload\":\"[2] New state: 5\\\\n\",\"type\":0}\\r\\n{\"payload\":{\"data\":[{\"probabilities\":[2.337613582611084,9.016510009765625,3.840365171432495,14.025681495666504,6.511923789978027],\"time_us\":1015023}]},\"type\":1}\\r\\n{\"payload\":\"[2] New state: 2\\\\n\",\"type\":0}\\r\\n{\"payload\":\"[1] Received {\\\\\"command\\\\\": 0, \\\\\"ds\\\\\": 12, \\\\\"repeat\\\\\": 1}\\\\n\\\\n\",\"type\":0}\\r\\n{\"payload\":\"[2] Received command with type: 0\\\\n\",\"type\":0}\\r\\n{\"payload\":\"[2] New state: 3\\\\n\",\"type\":0}\\r\\n'\n",
      "Type: float32\n",
      "[119, 190, 143, 63, 59, 223, 7, 64, 59, 223, 71, 64]\n",
      "b'{\"payload\":\"[2] Received data\\\\n\",\"type\":0}\\r\\n{\"payload\":\"[2] 1.123000\",\"type\":0}\\r\\n{\"payload\":\"[2] 2.123000\",\"type\":0}\\r\\n{\"payload\":\"[2] 3.123000\",\"type\":0}\\r\\n{\"payload\":\"[2] New state: 4\\\\n\",\"type\":0}\\r\\n'\n"
     ]
    }
   ],
   "source": [
    "command = {\"command\":0, \"ds\":12, \"repeat\": 1}\n",
    "command_json = json.dumps(command)\n",
    "print(command_json)\n",
    "\n",
    "command_json += \"\\n\"\n",
    "port.write(command_json.encode())\n",
    "time.sleep(0.5)\n",
    "\n",
    "print(port.read_all())\n",
    "\n",
    "data = np.array([[[1.123, 2.123, 3.123]]]).astype(dtype=np.float32).reshape(3)\n",
    "print(\"Type:\", data.dtype)\n",
    "dat_bytes = convert_float_list_to_bytes(data)\n",
    "\n",
    "print(dat_bytes)\n",
    "\n",
    "port.write(dat_bytes)\n",
    "\n",
    "time.sleep(0.5)\n",
    "\n",
    "print(port.read_all())"
   ]
  },
  {
   "cell_type": "code",
   "execution_count": 260,
   "metadata": {},
   "outputs": [
    {
     "name": "stdout",
     "output_type": "stream",
     "text": [
      "(32, 32, 3)\n",
      "(3072,)\n",
      "12288\n"
     ]
    },
    {
     "data": {
      "text/plain": [
       "<matplotlib.image.AxesImage at 0x7fe5d8147490>"
      ]
     },
     "execution_count": 260,
     "metadata": {},
     "output_type": "execute_result"
    },
    {
     "data": {
      "image/png": "[encoded data removed]",
      "text/plain": [
       "<Figure size 432x288 with 1 Axes>"
      ]
     },
     "metadata": {
      "needs_background": "light"
     },
     "output_type": "display_data"
    }
   ],
   "source": [
    "image_plain = Image.open(\"../train/data/dataset2/cloudy/cloudy44.jpg\").resize((img_width, img_height), Image.ANTIALIAS)\n",
    "print(np.shape(image_plain))\n",
    "image = np.float32(image_plain).reshape(img_width * img_height * img_channel)\n",
    "print(np.shape(image))\n",
    "image_bytes = convert_float_list_to_bytes(image)\n",
    "print(len(image_bytes))\n",
    "\n",
    "plt.imshow(image_plain)"
   ]
  },
  {
   "cell_type": "code",
   "execution_count": null,
   "metadata": {},
   "outputs": [],
   "source": [
    "k = 2\n",
    "image = np.float32(x_train[k])\n",
    "image = image.reshape(28*28,)\n",
    "print(np.shape(image))\n",
    "image_bytes = convert_float_list_to_bytes(image)\n",
    "print(len(image_bytes))"
   ]
  },
  {
   "cell_type": "code",
   "execution_count": 378,
   "metadata": {},
   "outputs": [
    {
     "name": "stdout",
     "output_type": "stream",
     "text": [
      "{'payload': '[2] Received data\\n', 'type': 0}\n",
      "{'payload': '[2] New state: 4\\n', 'type': 0}\n",
      "{'payload': '[2] New state: 5\\n', 'type': 0}\n",
      "{'payload': {'data': [{'probabilities': [0.9921875, 0.00390625, 0.0, 0.0], 'time_us': 348960}]}, 'type': 1}\n",
      "{'payload': '[2] New state: 2\\n', 'type': 0}\n"
     ]
    },
    {
     "data": {
      "text/html": [
       "<div>\n",
       "<style scoped>\n",
       "    .dataframe tbody tr th:only-of-type {\n",
       "        vertical-align: middle;\n",
       "    }\n",
       "\n",
       "    .dataframe tbody tr th {\n",
       "        vertical-align: top;\n",
       "    }\n",
       "\n",
       "    .dataframe thead th {\n",
       "        text-align: right;\n",
       "    }\n",
       "</style>\n",
       "<table border=\"1\" class=\"dataframe\">\n",
       "  <thead>\n",
       "    <tr style=\"text-align: right;\">\n",
       "      <th></th>\n",
       "      <th>0</th>\n",
       "    </tr>\n",
       "  </thead>\n",
       "  <tbody>\n",
       "    <tr>\n",
       "      <th>count</th>\n",
       "      <td>1.0</td>\n",
       "    </tr>\n",
       "    <tr>\n",
       "      <th>mean</th>\n",
       "      <td>348960.0</td>\n",
       "    </tr>\n",
       "    <tr>\n",
       "      <th>std</th>\n",
       "      <td>NaN</td>\n",
       "    </tr>\n",
       "    <tr>\n",
       "      <th>min</th>\n",
       "      <td>348960.0</td>\n",
       "    </tr>\n",
       "    <tr>\n",
       "      <th>25%</th>\n",
       "      <td>348960.0</td>\n",
       "    </tr>\n",
       "    <tr>\n",
       "      <th>50%</th>\n",
       "      <td>348960.0</td>\n",
       "    </tr>\n",
       "    <tr>\n",
       "      <th>75%</th>\n",
       "      <td>348960.0</td>\n",
       "    </tr>\n",
       "    <tr>\n",
       "      <th>max</th>\n",
       "      <td>348960.0</td>\n",
       "    </tr>\n",
       "  </tbody>\n",
       "</table>\n",
       "</div>"
      ],
      "text/plain": [
       "              0\n",
       "count       1.0\n",
       "mean   348960.0\n",
       "std         NaN\n",
       "min    348960.0\n",
       "25%    348960.0\n",
       "50%    348960.0\n",
       "75%    348960.0\n",
       "max    348960.0"
      ]
     },
     "execution_count": 378,
     "metadata": {},
     "output_type": "execute_result"
    }
   ],
   "source": [
    "port.write(image_bytes)\n",
    "\n",
    "time.sleep(10)\n",
    "\n",
    "timing_samples = []\n",
    "\n",
    "while(True):\n",
    "    lineData = port.readline()\n",
    "    line = str(lineData)\n",
    "\n",
    "    if len(lineData) == 0:\n",
    "        break\n",
    "\n",
    "    lineJsonData = io.BytesIO(lineData)\n",
    "    lineJson = json.load(lineJsonData)\n",
    "    print(lineJson)\n",
    "\n",
    "    if lineJson[\"type\"] == 1:\n",
    "        data = lineJson[\"payload\"][\"data\"]\n",
    "        for sample in data:\n",
    "            timing_samples.append(sample[\"time_us\"])\n",
    "            #print(sample[\"time_us\"])\n",
    "\n",
    "        \n",
    "        #print(lineJson)\n",
    "\n",
    "timing_samples = np.array(timing_samples)\n",
    "\n",
    "pd.DataFrame(timing_samples).describe()"
   ]
  },
  {
   "cell_type": "code",
   "execution_count": null,
   "metadata": {},
   "outputs": [],
   "source": [
    "t_without_p = pd.DataFrame(timing_samples)\n",
    "t_without_p.boxplot()"
   ]
  },
  {
   "cell_type": "code",
   "execution_count": null,
   "metadata": {},
   "outputs": [],
   "source": [
    "t_without_p.describe()"
   ]
  },
  {
   "cell_type": "code",
   "execution_count": null,
   "metadata": {},
   "outputs": [],
   "source": [
    "t_with_p = pd.DataFrame(timing_samples)\n",
    "t_with_p.boxplot()"
   ]
  },
  {
   "cell_type": "code",
   "execution_count": null,
   "metadata": {},
   "outputs": [],
   "source": [
    "t_with_p.describe()"
   ]
  },
  {
   "cell_type": "markdown",
   "metadata": {},
   "source": [
    "## Test image send"
   ]
  },
  {
   "cell_type": "code",
   "execution_count": null,
   "metadata": {},
   "outputs": [],
   "source": [
    "def predict_on_pi(image):\n",
    "    image_bytes = convert_float_list_to_bytes(image)\n",
    "    port.write(image_bytes)\n",
    "    reportData = port.readall()\n",
    "    reportDataIO = io.BytesIO(reportData)\n",
    "    reportJson = json.load(reportDataIO)\n",
    "    return reportJson"
   ]
  },
  {
   "cell_type": "code",
   "execution_count": 86,
   "metadata": {},
   "outputs": [
    {
     "ename": "NameError",
     "evalue": "name 'x_train' is not defined",
     "output_type": "error",
     "traceback": [
      "\u001b[0;31m---------------------------------------------------------------------------\u001b[0m",
      "\u001b[0;31mNameError\u001b[0m                                 Traceback (most recent call last)",
      "\u001b[0;32m/var/folders/vb/mchghtt9519g6bs7gqw029vm0000gn/T/ipykernel_68280/1324961142.py\u001b[0m in \u001b[0;36m<module>\u001b[0;34m\u001b[0m\n\u001b[1;32m      1\u001b[0m \u001b[0mk\u001b[0m \u001b[0;34m=\u001b[0m \u001b[0;36m0\u001b[0m\u001b[0;34m\u001b[0m\u001b[0;34m\u001b[0m\u001b[0m\n\u001b[0;32m----> 2\u001b[0;31m \u001b[0mimage\u001b[0m \u001b[0;34m=\u001b[0m \u001b[0mnp\u001b[0m\u001b[0;34m.\u001b[0m\u001b[0mfloat32\u001b[0m\u001b[0;34m(\u001b[0m\u001b[0mx_train\u001b[0m\u001b[0;34m[\u001b[0m\u001b[0mk\u001b[0m\u001b[0;34m]\u001b[0m\u001b[0;34m)\u001b[0m\u001b[0;34m\u001b[0m\u001b[0;34m\u001b[0m\u001b[0m\n\u001b[0m\u001b[1;32m      3\u001b[0m \u001b[0mimage\u001b[0m \u001b[0;34m=\u001b[0m \u001b[0mimage\u001b[0m\u001b[0;34m.\u001b[0m\u001b[0mreshape\u001b[0m\u001b[0;34m(\u001b[0m\u001b[0;36m28\u001b[0m\u001b[0;34m*\u001b[0m\u001b[0;36m28\u001b[0m\u001b[0;34m,\u001b[0m\u001b[0;34m)\u001b[0m\u001b[0;34m\u001b[0m\u001b[0;34m\u001b[0m\u001b[0m\n\u001b[1;32m      4\u001b[0m \u001b[0mpredict_on_pi\u001b[0m\u001b[0;34m(\u001b[0m\u001b[0mimage\u001b[0m\u001b[0;34m)\u001b[0m\u001b[0;34m\u001b[0m\u001b[0;34m\u001b[0m\u001b[0m\n\u001b[1;32m      5\u001b[0m \u001b[0mprint\u001b[0m\u001b[0;34m(\u001b[0m\u001b[0;34m\"Shape:\"\u001b[0m\u001b[0;34m,\u001b[0m \u001b[0mnp\u001b[0m\u001b[0;34m.\u001b[0m\u001b[0mshape\u001b[0m\u001b[0;34m(\u001b[0m\u001b[0mimage\u001b[0m\u001b[0;34m)\u001b[0m\u001b[0;34m)\u001b[0m\u001b[0;34m\u001b[0m\u001b[0;34m\u001b[0m\u001b[0m\n",
      "\u001b[0;31mNameError\u001b[0m: name 'x_train' is not defined"
     ]
    }
   ],
   "source": [
    "k = 0\n",
    "image = np.float32(x_train[k])\n",
    "image = image.reshape(28*28,)\n",
    "predict_on_pi(image)\n",
    "print(\"Shape:\", np.shape(image))\n",
    "print(\"Type:\", image.dtype)\n",
    "print(\"Ground trouth:\", y_train[k])\n"
   ]
  },
  {
   "cell_type": "markdown",
   "metadata": {},
   "source": [
    "## Measure timing"
   ]
  },
  {
   "cell_type": "code",
   "execution_count": null,
   "metadata": {},
   "outputs": [],
   "source": [
    "port.close()\n",
    "port.open()"
   ]
  },
  {
   "cell_type": "code",
   "execution_count": null,
   "metadata": {},
   "outputs": [],
   "source": [
    "timing_samples = []\n",
    "k = 0\n",
    "image = np.float32(x_train[k])\n",
    "image = image.reshape(28*28,)\n",
    "\n",
    "cycles = 30\n",
    "for cycle in range(cycles):\n",
    "    report = predict_on_pi(image)\n",
    "    timing_samples.append(report[\"timing\"])\n",
    "    print(cycle + 1, \"/\", cycles)\n",
    "\n",
    "timing_samples = np.array(timing_samples)"
   ]
  },
  {
   "cell_type": "code",
   "execution_count": null,
   "metadata": {},
   "outputs": [],
   "source": [
    "pd.DataFrame(timing_samples).describe()"
   ]
  },
  {
   "cell_type": "code",
   "execution_count": null,
   "metadata": {},
   "outputs": [],
   "source": [
    "pd.DataFrame(timing_samples).describe()"
   ]
  }
 ],
 "metadata": {
  "interpreter": {
   "hash": "0d1cd94cfed04ad9427ef807a2ad11acb0c84f064da073693db7977f8eb74254"
  },
  "kernelspec": {
   "display_name": "Python 3.8.12 64-bit ('test': conda)",
   "language": "python",
   "name": "python3"
  },
  "language_info": {
   "codemirror_mode": {
    "name": "ipython",
    "version": 3
   },
   "file_extension": ".py",
   "mimetype": "text/x-python",
   "name": "python",
   "nbconvert_exporter": "python",
   "pygments_lexer": "ipython3",
   "version": "3.8.2"
  },
  "orig_nbformat": 4
 },
 "nbformat": 4,
 "nbformat_minor": 2
}
