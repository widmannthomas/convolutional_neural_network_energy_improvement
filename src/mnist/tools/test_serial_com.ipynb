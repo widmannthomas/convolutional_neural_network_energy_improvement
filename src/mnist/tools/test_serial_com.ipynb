{
 "cells": [
  {
   "cell_type": "code",
   "execution_count": 59,
   "metadata": {},
   "outputs": [],
   "source": [
    "import serial\n",
    "import serial.tools.list_ports\n",
    "import time\n",
    "import json\n",
    "import io\n",
    "import struct\n",
    "import numpy as np\n",
    "import pandas as pd\n",
    "from tensorflow import keras\n",
    "import matplotlib.pyplot as plt"
   ]
  },
  {
   "cell_type": "code",
   "execution_count": 3,
   "metadata": {},
   "outputs": [
    {
     "name": "stdout",
     "output_type": "stream",
     "text": [
      "This is how a one-hot encoded 5 looks like\n",
      "[0. 0. 0. 0. 0. 1. 0. 0. 0. 0.]\n"
     ]
    }
   ],
   "source": [
    "with np.load('../train/mnist.npz') as f:\n",
    "    x_train, y_train = f['x_train'], f['y_train']\n",
    "\n",
    "x_train = x_train/255\n",
    "y_train = keras.utils.to_categorical(y_train)\n",
    "\n",
    "print('This is how a one-hot encoded 5 looks like')\n",
    "print(y_train[0])"
   ]
  },
  {
   "cell_type": "code",
   "execution_count": 61,
   "metadata": {},
   "outputs": [
    {
     "name": "stdout",
     "output_type": "stream",
     "text": [
      "cu.wlan-debug\n",
      "cu.Bluetooth-Incoming-Port\n",
      "cu.usbmodem101\n"
     ]
    }
   ],
   "source": [
    "ports = serial.tools.list_ports.comports()\n",
    "\n",
    "for __port in ports:\n",
    "    print(__port.name)\n",
    "\n",
    "\n",
    "port = serial.Serial(\"/dev/cu.usbmodem101\", baudrate=115200, timeout=1)"
   ]
  },
  {
   "cell_type": "markdown",
   "metadata": {},
   "source": [
    "## Test send command"
   ]
  },
  {
   "cell_type": "code",
   "execution_count": 118,
   "metadata": {},
   "outputs": [
    {
     "name": "stdout",
     "output_type": "stream",
     "text": [
      "{\"command\": 0, \"ds\": 100}\n",
      "b'{\"payload\":\"[1] Received {\\\\\"command\\\\\": 0, \\\\\"ds\\\\\": 100}\\\\n\\\\n\",\"type\":0}\\r\\n{\"payload\":\"[2] Received command with type: 0\\\\n\",\"type\":0}\\r\\n{\"payload\":\"[2] New state: 3\\\\n\",\"type\":0}\\r\\n'\n"
     ]
    }
   ],
   "source": [
    "command = {\"command\":0, \"ds\":100}\n",
    "command_json = json.dumps(command)\n",
    "print(command_json)\n",
    "\n",
    "command_json += \"\\n\"\n",
    "port.write(command_json.encode())\n",
    "time.sleep(0.1)\n",
    "\n",
    "print(port.read_all())"
   ]
  },
  {
   "cell_type": "code",
   "execution_count": 167,
   "metadata": {},
   "outputs": [
    {
     "data": {
      "text/plain": [
       "b'{\"payload\":\"[2] Test environment.\\\\n\",\"type\":0}\\r\\n{\"payload\":\"[2] Thomas Widmann.\\\\n\",\"type\":0}\\r\\n{\"payload\":\"[2] Start state machine. Current state: 0\\\\n\",\"type\":0}\\r\\n{\"payload\":\"[2] New state: 0\\\\n\",\"type\":0}\\r\\n{\"payload\":\"[2] New state: 1\\\\n\",\"type\":0}\\r\\n{\"payload\":\"[1] Input type: 1\\\\n\",\"type\":0}\\r\\n{\"payload\":\"[1] Input dims size: 4\\\\n\",\"type\":0}\\r\\n{\"payload\":\"[1] Output type: 1\\\\n\",\"type\":0}\\r\\n{\"payload\":\"[1] Output dims size: 2\\\\n\",\"type\":0}\\r\\n{\"payload\":\"[2] New state: 2\\\\n\",\"type\":0}\\r\\n'"
      ]
     },
     "execution_count": 167,
     "metadata": {},
     "output_type": "execute_result"
    }
   ],
   "source": [
    "port.read_all()"
   ]
  },
  {
   "cell_type": "code",
   "execution_count": 168,
   "metadata": {},
   "outputs": [
    {
     "name": "stdout",
     "output_type": "stream",
     "text": [
      "{\"command\": 0, \"ds\": 3136, \"repeat\": 30}\n",
      "b'{\"payload\":\"[1] Received {\\\\\"command\\\\\": 0, \\\\\"ds\\\\\": 3136, \\\\\"repeat\\\\\": 30}\\\\n\\\\n\",\"type\":0}\\r\\n{\"payload\":\"[2] Received command with type: 0\\\\n\",\"type\":0}\\r\\n{\"payload\":\"[2] New state: 3\\\\n\",\"type\":0}\\r\\n'\n"
     ]
    }
   ],
   "source": [
    "command = {\"command\":0, \"ds\":3136, \"repeat\": 30}\n",
    "command_json = json.dumps(command)\n",
    "print(command_json)\n",
    "\n",
    "command_json += \"\\n\"\n",
    "port.write(command_json.encode())\n",
    "time.sleep(0.1)\n",
    "\n",
    "print(port.read_all())"
   ]
  },
  {
   "cell_type": "code",
   "execution_count": 165,
   "metadata": {},
   "outputs": [],
   "source": [
    "port.close()\n",
    "port.open()"
   ]
  },
  {
   "cell_type": "code",
   "execution_count": 8,
   "metadata": {},
   "outputs": [],
   "source": [
    "def convert_float_list_to_bytes(data):\n",
    "    data_bytes = []\n",
    "    for dat in data:\n",
    "        bytes_ = list(struct.pack(\"!f\", dat))\n",
    "        bytes_.reverse()\n",
    "        data_bytes.extend(bytes_)\n",
    "\n",
    "    return data_bytes"
   ]
  },
  {
   "cell_type": "code",
   "execution_count": 169,
   "metadata": {},
   "outputs": [
    {
     "data": {
      "text/html": [
       "<div>\n",
       "<style scoped>\n",
       "    .dataframe tbody tr th:only-of-type {\n",
       "        vertical-align: middle;\n",
       "    }\n",
       "\n",
       "    .dataframe tbody tr th {\n",
       "        vertical-align: top;\n",
       "    }\n",
       "\n",
       "    .dataframe thead th {\n",
       "        text-align: right;\n",
       "    }\n",
       "</style>\n",
       "<table border=\"1\" class=\"dataframe\">\n",
       "  <thead>\n",
       "    <tr style=\"text-align: right;\">\n",
       "      <th></th>\n",
       "      <th>0</th>\n",
       "    </tr>\n",
       "  </thead>\n",
       "  <tbody>\n",
       "    <tr>\n",
       "      <th>count</th>\n",
       "      <td>30.000000</td>\n",
       "    </tr>\n",
       "    <tr>\n",
       "      <th>mean</th>\n",
       "      <td>109815.633333</td>\n",
       "    </tr>\n",
       "    <tr>\n",
       "      <th>std</th>\n",
       "      <td>61.656716</td>\n",
       "    </tr>\n",
       "    <tr>\n",
       "      <th>min</th>\n",
       "      <td>109758.000000</td>\n",
       "    </tr>\n",
       "    <tr>\n",
       "      <th>25%</th>\n",
       "      <td>109774.500000</td>\n",
       "    </tr>\n",
       "    <tr>\n",
       "      <th>50%</th>\n",
       "      <td>109798.000000</td>\n",
       "    </tr>\n",
       "    <tr>\n",
       "      <th>75%</th>\n",
       "      <td>109836.500000</td>\n",
       "    </tr>\n",
       "    <tr>\n",
       "      <th>max</th>\n",
       "      <td>110070.000000</td>\n",
       "    </tr>\n",
       "  </tbody>\n",
       "</table>\n",
       "</div>"
      ],
      "text/plain": [
       "                   0\n",
       "count      30.000000\n",
       "mean   109815.633333\n",
       "std        61.656716\n",
       "min    109758.000000\n",
       "25%    109774.500000\n",
       "50%    109798.000000\n",
       "75%    109836.500000\n",
       "max    110070.000000"
      ]
     },
     "execution_count": 169,
     "metadata": {},
     "output_type": "execute_result"
    }
   ],
   "source": [
    "k = 2\n",
    "image = np.float32(x_train[k])\n",
    "image = image.reshape(28*28,)\n",
    "image_bytes = convert_float_list_to_bytes(image)\n",
    "port.write(image_bytes)\n",
    "\n",
    "time.sleep(3)\n",
    "\n",
    "timing_samples = []\n",
    "\n",
    "while(True):\n",
    "    lineData = port.readline()\n",
    "    line = str(lineData)\n",
    "\n",
    "    if len(lineData) == 0:\n",
    "        break\n",
    "\n",
    "    lineJsonData = io.BytesIO(lineData)\n",
    "    lineJson = json.load(lineJsonData)\n",
    "\n",
    "    if lineJson[\"type\"] == 1:\n",
    "        data = lineJson[\"payload\"][\"data\"]\n",
    "        for sample in data:\n",
    "            timing_samples.append(sample[\"time_us\"])\n",
    "            #print(sample[\"time_us\"])\n",
    "\n",
    "        \n",
    "        #print(lineJson)\n",
    "\n",
    "timing_samples = np.array(timing_samples)\n",
    "\n",
    "pd.DataFrame(timing_samples).describe()"
   ]
  },
  {
   "cell_type": "code",
   "execution_count": 156,
   "metadata": {},
   "outputs": [
    {
     "data": {
      "text/plain": [
       "<AxesSubplot:>"
      ]
     },
     "execution_count": 156,
     "metadata": {},
     "output_type": "execute_result"
    },
    {
     "data": {
      "image/png": "[encoded data removed]",
      "text/plain": [
       "<Figure size 432x288 with 1 Axes>"
      ]
     },
     "metadata": {
      "needs_background": "light"
     },
     "output_type": "display_data"
    }
   ],
   "source": [
    "t_without_p = pd.DataFrame(timing_samples)\n",
    "t_without_p.boxplot()"
   ]
  },
  {
   "cell_type": "code",
   "execution_count": 157,
   "metadata": {},
   "outputs": [
    {
     "data": {
      "text/html": [
       "<div>\n",
       "<style scoped>\n",
       "    .dataframe tbody tr th:only-of-type {\n",
       "        vertical-align: middle;\n",
       "    }\n",
       "\n",
       "    .dataframe tbody tr th {\n",
       "        vertical-align: top;\n",
       "    }\n",
       "\n",
       "    .dataframe thead th {\n",
       "        text-align: right;\n",
       "    }\n",
       "</style>\n",
       "<table border=\"1\" class=\"dataframe\">\n",
       "  <thead>\n",
       "    <tr style=\"text-align: right;\">\n",
       "      <th></th>\n",
       "      <th>0</th>\n",
       "    </tr>\n",
       "  </thead>\n",
       "  <tbody>\n",
       "    <tr>\n",
       "      <th>count</th>\n",
       "      <td>30.000000</td>\n",
       "    </tr>\n",
       "    <tr>\n",
       "      <th>mean</th>\n",
       "      <td>109822.800000</td>\n",
       "    </tr>\n",
       "    <tr>\n",
       "      <th>std</th>\n",
       "      <td>63.968958</td>\n",
       "    </tr>\n",
       "    <tr>\n",
       "      <th>min</th>\n",
       "      <td>109746.000000</td>\n",
       "    </tr>\n",
       "    <tr>\n",
       "      <th>25%</th>\n",
       "      <td>109782.250000</td>\n",
       "    </tr>\n",
       "    <tr>\n",
       "      <th>50%</th>\n",
       "      <td>109803.500000</td>\n",
       "    </tr>\n",
       "    <tr>\n",
       "      <th>75%</th>\n",
       "      <td>109851.250000</td>\n",
       "    </tr>\n",
       "    <tr>\n",
       "      <th>max</th>\n",
       "      <td>110078.000000</td>\n",
       "    </tr>\n",
       "  </tbody>\n",
       "</table>\n",
       "</div>"
      ],
      "text/plain": [
       "                   0\n",
       "count      30.000000\n",
       "mean   109822.800000\n",
       "std        63.968958\n",
       "min    109746.000000\n",
       "25%    109782.250000\n",
       "50%    109803.500000\n",
       "75%    109851.250000\n",
       "max    110078.000000"
      ]
     },
     "execution_count": 157,
     "metadata": {},
     "output_type": "execute_result"
    }
   ],
   "source": [
    "t_without_p.describe()"
   ]
  },
  {
   "cell_type": "code",
   "execution_count": 170,
   "metadata": {},
   "outputs": [
    {
     "data": {
      "text/plain": [
       "<AxesSubplot:>"
      ]
     },
     "execution_count": 170,
     "metadata": {},
     "output_type": "execute_result"
    },
    {
     "data": {
      "image/png": "[encoded data removed]",
      "text/plain": [
       "<Figure size 432x288 with 1 Axes>"
      ]
     },
     "metadata": {
      "needs_background": "light"
     },
     "output_type": "display_data"
    }
   ],
   "source": [
    "t_with_p = pd.DataFrame(timing_samples)\n",
    "t_with_p.boxplot()"
   ]
  },
  {
   "cell_type": "code",
   "execution_count": 171,
   "metadata": {},
   "outputs": [
    {
     "data": {
      "text/html": [
       "<div>\n",
       "<style scoped>\n",
       "    .dataframe tbody tr th:only-of-type {\n",
       "        vertical-align: middle;\n",
       "    }\n",
       "\n",
       "    .dataframe tbody tr th {\n",
       "        vertical-align: top;\n",
       "    }\n",
       "\n",
       "    .dataframe thead th {\n",
       "        text-align: right;\n",
       "    }\n",
       "</style>\n",
       "<table border=\"1\" class=\"dataframe\">\n",
       "  <thead>\n",
       "    <tr style=\"text-align: right;\">\n",
       "      <th></th>\n",
       "      <th>0</th>\n",
       "    </tr>\n",
       "  </thead>\n",
       "  <tbody>\n",
       "    <tr>\n",
       "      <th>count</th>\n",
       "      <td>30.000000</td>\n",
       "    </tr>\n",
       "    <tr>\n",
       "      <th>mean</th>\n",
       "      <td>109815.633333</td>\n",
       "    </tr>\n",
       "    <tr>\n",
       "      <th>std</th>\n",
       "      <td>61.656716</td>\n",
       "    </tr>\n",
       "    <tr>\n",
       "      <th>min</th>\n",
       "      <td>109758.000000</td>\n",
       "    </tr>\n",
       "    <tr>\n",
       "      <th>25%</th>\n",
       "      <td>109774.500000</td>\n",
       "    </tr>\n",
       "    <tr>\n",
       "      <th>50%</th>\n",
       "      <td>109798.000000</td>\n",
       "    </tr>\n",
       "    <tr>\n",
       "      <th>75%</th>\n",
       "      <td>109836.500000</td>\n",
       "    </tr>\n",
       "    <tr>\n",
       "      <th>max</th>\n",
       "      <td>110070.000000</td>\n",
       "    </tr>\n",
       "  </tbody>\n",
       "</table>\n",
       "</div>"
      ],
      "text/plain": [
       "                   0\n",
       "count      30.000000\n",
       "mean   109815.633333\n",
       "std        61.656716\n",
       "min    109758.000000\n",
       "25%    109774.500000\n",
       "50%    109798.000000\n",
       "75%    109836.500000\n",
       "max    110070.000000"
      ]
     },
     "execution_count": 171,
     "metadata": {},
     "output_type": "execute_result"
    }
   ],
   "source": [
    "t_with_p.describe()"
   ]
  },
  {
   "cell_type": "markdown",
   "metadata": {},
   "source": [
    "## Test image send"
   ]
  },
  {
   "cell_type": "code",
   "execution_count": 9,
   "metadata": {},
   "outputs": [],
   "source": [
    "def predict_on_pi(image):\n",
    "    image_bytes = convert_float_list_to_bytes(image)\n",
    "    port.write(image_bytes)\n",
    "    reportData = port.readall()\n",
    "    reportDataIO = io.BytesIO(reportData)\n",
    "    reportJson = json.load(reportDataIO)\n",
    "    return reportJson"
   ]
  },
  {
   "cell_type": "code",
   "execution_count": 29,
   "metadata": {},
   "outputs": [
    {
     "name": "stdout",
     "output_type": "stream",
     "text": [
      "Shape: (784,)\n",
      "Type: float32\n",
      "Ground trouth: [0. 0. 0. 0. 0. 1. 0. 0. 0. 0.]\n",
      "Size: 3136 Bytes\n"
     ]
    }
   ],
   "source": [
    "k = 0\n",
    "image = np.float32(x_train[k])\n",
    "image = image.reshape(28*28,)\n",
    "predict_on_pi(image)\n",
    "print(\"Shape:\", np.shape(image))\n",
    "print(\"Type:\", image.dtype)\n",
    "print(\"Ground trouth:\", y_train[k])\n"
   ]
  },
  {
   "cell_type": "markdown",
   "metadata": {},
   "source": [
    "## Measure timing"
   ]
  },
  {
   "cell_type": "code",
   "execution_count": 53,
   "metadata": {},
   "outputs": [],
   "source": [
    "port.close()\n",
    "port.open()"
   ]
  },
  {
   "cell_type": "code",
   "execution_count": 54,
   "metadata": {},
   "outputs": [
    {
     "name": "stdout",
     "output_type": "stream",
     "text": [
      "1 / 30\n",
      "2 / 30\n",
      "3 / 30\n",
      "4 / 30\n",
      "5 / 30\n",
      "6 / 30\n",
      "7 / 30\n",
      "8 / 30\n",
      "9 / 30\n",
      "10 / 30\n",
      "11 / 30\n",
      "12 / 30\n",
      "13 / 30\n",
      "14 / 30\n",
      "15 / 30\n",
      "16 / 30\n",
      "17 / 30\n",
      "18 / 30\n",
      "19 / 30\n",
      "20 / 30\n",
      "21 / 30\n",
      "22 / 30\n",
      "23 / 30\n",
      "24 / 30\n",
      "25 / 30\n",
      "26 / 30\n",
      "27 / 30\n",
      "28 / 30\n",
      "29 / 30\n",
      "30 / 30\n"
     ]
    }
   ],
   "source": [
    "timing_samples = []\n",
    "k = 0\n",
    "image = np.float32(x_train[k])\n",
    "image = image.reshape(28*28,)\n",
    "\n",
    "cycles = 30\n",
    "for cycle in range(cycles):\n",
    "    report = predict_on_pi(image)\n",
    "    timing_samples.append(report[\"timing\"])\n",
    "    print(cycle + 1, \"/\", cycles)\n",
    "\n",
    "timing_samples = np.array(timing_samples)"
   ]
  },
  {
   "cell_type": "code",
   "execution_count": 55,
   "metadata": {},
   "outputs": [
    {
     "data": {
      "text/html": [
       "<div>\n",
       "<style scoped>\n",
       "    .dataframe tbody tr th:only-of-type {\n",
       "        vertical-align: middle;\n",
       "    }\n",
       "\n",
       "    .dataframe tbody tr th {\n",
       "        vertical-align: top;\n",
       "    }\n",
       "\n",
       "    .dataframe thead th {\n",
       "        text-align: right;\n",
       "    }\n",
       "</style>\n",
       "<table border=\"1\" class=\"dataframe\">\n",
       "  <thead>\n",
       "    <tr style=\"text-align: right;\">\n",
       "      <th></th>\n",
       "      <th>0</th>\n",
       "    </tr>\n",
       "  </thead>\n",
       "  <tbody>\n",
       "    <tr>\n",
       "      <th>count</th>\n",
       "      <td>30.00000</td>\n",
       "    </tr>\n",
       "    <tr>\n",
       "      <th>mean</th>\n",
       "      <td>109985.10000</td>\n",
       "    </tr>\n",
       "    <tr>\n",
       "      <th>std</th>\n",
       "      <td>36.58938</td>\n",
       "    </tr>\n",
       "    <tr>\n",
       "      <th>min</th>\n",
       "      <td>109919.00000</td>\n",
       "    </tr>\n",
       "    <tr>\n",
       "      <th>25%</th>\n",
       "      <td>109964.00000</td>\n",
       "    </tr>\n",
       "    <tr>\n",
       "      <th>50%</th>\n",
       "      <td>109978.00000</td>\n",
       "    </tr>\n",
       "    <tr>\n",
       "      <th>75%</th>\n",
       "      <td>110006.00000</td>\n",
       "    </tr>\n",
       "    <tr>\n",
       "      <th>max</th>\n",
       "      <td>110072.00000</td>\n",
       "    </tr>\n",
       "  </tbody>\n",
       "</table>\n",
       "</div>"
      ],
      "text/plain": [
       "                  0\n",
       "count      30.00000\n",
       "mean   109985.10000\n",
       "std        36.58938\n",
       "min    109919.00000\n",
       "25%    109964.00000\n",
       "50%    109978.00000\n",
       "75%    110006.00000\n",
       "max    110072.00000"
      ]
     },
     "execution_count": 55,
     "metadata": {},
     "output_type": "execute_result"
    }
   ],
   "source": [
    "pd.DataFrame(timing_samples).describe()"
   ]
  },
  {
   "cell_type": "code",
   "execution_count": 46,
   "metadata": {},
   "outputs": [
    {
     "data": {
      "text/html": [
       "<div>\n",
       "<style scoped>\n",
       "    .dataframe tbody tr th:only-of-type {\n",
       "        vertical-align: middle;\n",
       "    }\n",
       "\n",
       "    .dataframe tbody tr th {\n",
       "        vertical-align: top;\n",
       "    }\n",
       "\n",
       "    .dataframe thead th {\n",
       "        text-align: right;\n",
       "    }\n",
       "</style>\n",
       "<table border=\"1\" class=\"dataframe\">\n",
       "  <thead>\n",
       "    <tr style=\"text-align: right;\">\n",
       "      <th></th>\n",
       "      <th>0</th>\n",
       "    </tr>\n",
       "  </thead>\n",
       "  <tbody>\n",
       "    <tr>\n",
       "      <th>count</th>\n",
       "      <td>10.000000</td>\n",
       "    </tr>\n",
       "    <tr>\n",
       "      <th>mean</th>\n",
       "      <td>109956.400000</td>\n",
       "    </tr>\n",
       "    <tr>\n",
       "      <th>std</th>\n",
       "      <td>35.239498</td>\n",
       "    </tr>\n",
       "    <tr>\n",
       "      <th>min</th>\n",
       "      <td>109910.000000</td>\n",
       "    </tr>\n",
       "    <tr>\n",
       "      <th>25%</th>\n",
       "      <td>109939.000000</td>\n",
       "    </tr>\n",
       "    <tr>\n",
       "      <th>50%</th>\n",
       "      <td>109944.000000</td>\n",
       "    </tr>\n",
       "    <tr>\n",
       "      <th>75%</th>\n",
       "      <td>109978.500000</td>\n",
       "    </tr>\n",
       "    <tr>\n",
       "      <th>max</th>\n",
       "      <td>110027.000000</td>\n",
       "    </tr>\n",
       "  </tbody>\n",
       "</table>\n",
       "</div>"
      ],
      "text/plain": [
       "                   0\n",
       "count      10.000000\n",
       "mean   109956.400000\n",
       "std        35.239498\n",
       "min    109910.000000\n",
       "25%    109939.000000\n",
       "50%    109944.000000\n",
       "75%    109978.500000\n",
       "max    110027.000000"
      ]
     },
     "execution_count": 46,
     "metadata": {},
     "output_type": "execute_result"
    }
   ],
   "source": [
    "pd.DataFrame(timing_samples).describe()"
   ]
  }
 ],
 "metadata": {
  "interpreter": {
   "hash": "0d1cd94cfed04ad9427ef807a2ad11acb0c84f064da073693db7977f8eb74254"
  },
  "kernelspec": {
   "display_name": "Python 3.8.12 64-bit ('test': conda)",
   "language": "python",
   "name": "python3"
  },
  "language_info": {
   "codemirror_mode": {
    "name": "ipython",
    "version": 3
   },
   "file_extension": ".py",
   "mimetype": "text/x-python",
   "name": "python",
   "nbconvert_exporter": "python",
   "pygments_lexer": "ipython3",
   "version": "3.8.12"
  },
  "orig_nbformat": 4
 },
 "nbformat": 4,
 "nbformat_minor": 2
}
