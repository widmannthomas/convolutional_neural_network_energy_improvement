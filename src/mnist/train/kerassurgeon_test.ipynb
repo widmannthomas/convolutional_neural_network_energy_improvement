{
 "cells": [
  {
   "cell_type": "code",
   "execution_count": 178,
   "metadata": {},
   "outputs": [],
   "source": [
    "import numpy as np\n",
    "import matplotlib.pyplot as plt\n",
    "import pandas as pd\n",
    "import tensorflow as tf\n",
    "from tensorflow import keras\n",
    "from tensorflow.keras import layers\n",
    "from tensorflow.keras.models import Sequential\n",
    "from tensorflow.keras.layers import Dense, Activation, AveragePooling2D\n",
    "from tensorflow.keras import layers\n",
    "from tensorflow.keras.models import Sequential\n",
    "from tensorflow.keras.layers import Dense, Conv2D, Activation, Flatten\n",
    "import tensorflow_model_optimization as tfmot"
   ]
  },
  {
   "cell_type": "code",
   "execution_count": 102,
   "metadata": {},
   "outputs": [],
   "source": [
    "plt.rcParams[\"figure.figsize\"] = (5,5)"
   ]
  },
  {
   "cell_type": "code",
   "execution_count": 103,
   "metadata": {},
   "outputs": [
    {
     "name": "stdout",
     "output_type": "stream",
     "text": [
      "This is how a one-hot encoded 5 looks like\n",
      "[0. 0. 0. 0. 0. 1. 0. 0. 0. 0.]\n"
     ]
    }
   ],
   "source": [
    "with np.load('mnist.npz') as f:\n",
    "    x_train, y_train = f['x_train'], f['y_train']\n",
    "\n",
    "x_train = x_train/255 # Normalize pixel values to [0,1] and flatten each image to 1D.\n",
    "y_train = keras.utils.to_categorical(y_train) # One-hot encoding\n",
    "\n",
    "print('This is how a one-hot encoded 5 looks like')\n",
    "print(y_train[0])"
   ]
  },
  {
   "cell_type": "code",
   "execution_count": 247,
   "metadata": {},
   "outputs": [],
   "source": [
    "def create_base_model():\n",
    "    raw_model = Sequential()\n",
    "    raw_model.add(Conv2D(input_shape=(28, 28, 1), kernel_size=(16, 16), filters=32, strides=(4, 4), activation='relu', name=\"conv1\"))\n",
    "    raw_model.add(Conv2D(kernel_size=(3, 3), filters=64, strides=(1, 1), activation='relu', name=\"conv2\"))\n",
    "    raw_model.add(Flatten())\n",
    "    raw_model.add(Dense(10, activation='softmax'))\n",
    "    return raw_model\n",
    "\n",
    "def create_lenet():\n",
    "    lenet_5_model = Sequential([\n",
    "        Conv2D(filters=6, kernel_size=5, strides=1,  activation='relu', input_shape=(28, 28, 1), padding='same', name=\"conv1\"), #C1\n",
    "        AveragePooling2D(), #S2\n",
    "        Conv2D(filters=16, kernel_size=5, strides=1, activation='relu', padding='valid', name=\"conv2\"), #C3\n",
    "        AveragePooling2D(), #S4\n",
    "        Flatten(), #Flatten\n",
    "        Dense(120, activation='tanh'), #C5\n",
    "        Dense(84, activation='tanh'), #F6\n",
    "        Dense(10, activation='softmax') #Output layer\n",
    "    ])\n",
    "    return lenet_5_model"
   ]
  },
  {
   "cell_type": "code",
   "execution_count": 248,
   "metadata": {},
   "outputs": [
    {
     "name": "stdout",
     "output_type": "stream",
     "text": [
      "Model: \"sequential_18\"\n",
      "_________________________________________________________________\n",
      "Layer (type)                 Output Shape              Param #   \n",
      "=================================================================\n",
      "conv1 (Conv2D)               (None, 28, 28, 6)         156       \n",
      "_________________________________________________________________\n",
      "average_pooling2d_28 (Averag (None, 14, 14, 6)         0         \n",
      "_________________________________________________________________\n",
      "conv2 (Conv2D)               (None, 10, 10, 16)        2416      \n",
      "_________________________________________________________________\n",
      "average_pooling2d_29 (Averag (None, 5, 5, 16)          0         \n",
      "_________________________________________________________________\n",
      "flatten_18 (Flatten)         (None, 400)               0         \n",
      "_________________________________________________________________\n",
      "dense_46 (Dense)             (None, 120)               48120     \n",
      "_________________________________________________________________\n",
      "dense_47 (Dense)             (None, 84)                10164     \n",
      "_________________________________________________________________\n",
      "dense_48 (Dense)             (None, 10)                850       \n",
      "=================================================================\n",
      "Total params: 61,706\n",
      "Trainable params: 61,706\n",
      "Non-trainable params: 0\n",
      "_________________________________________________________________\n"
     ]
    }
   ],
   "source": [
    "#model = create_base_model()\n",
    "model = create_lenet()\n",
    "model.summary()"
   ]
  },
  {
   "cell_type": "code",
   "execution_count": 249,
   "metadata": {},
   "outputs": [
    {
     "name": "stdout",
     "output_type": "stream",
     "text": [
      "Epoch 1/5\n",
      "118/118 [==============================] - 8s 61ms/step - loss: 0.9189 - accuracy: 0.7433\n",
      "Epoch 2/5\n",
      "118/118 [==============================] - 7s 61ms/step - loss: 0.1944 - accuracy: 0.9418\n",
      "Epoch 3/5\n",
      "118/118 [==============================] - 8s 64ms/step - loss: 0.1118 - accuracy: 0.9659\n",
      "Epoch 4/5\n",
      "118/118 [==============================] - 7s 62ms/step - loss: 0.0772 - accuracy: 0.9766\n",
      "Epoch 5/5\n",
      "118/118 [==============================] - 9s 79ms/step - loss: 0.0676 - accuracy: 0.9796\n"
     ]
    },
    {
     "data": {
      "text/plain": [
       "Text(0, 0.5, 'Accuracy')"
      ]
     },
     "execution_count": 249,
     "metadata": {},
     "output_type": "execute_result"
    },
    {
     "data": {
      "image/png": "[encoded data removed]",
      "text/plain": [
       "<Figure size 360x360 with 1 Axes>"
      ]
     },
     "metadata": {
      "needs_background": "light"
     },
     "output_type": "display_data"
    }
   ],
   "source": [
    "# Fit the model:\n",
    "model.compile(optimizer='RMSprop',\n",
    "          loss='categorical_crossentropy',\n",
    "          metrics=['accuracy'])\n",
    "history = model.fit(x_train.reshape(-1,28,28,1), y_train, batch_size=512, epochs=5)\n",
    "plt.plot(history.history['accuracy'])\n",
    "plt.xlabel('Epoch')\n",
    "plt.ylabel('Accuracy')"
   ]
  },
  {
   "cell_type": "code",
   "execution_count": 250,
   "metadata": {},
   "outputs": [
    {
     "name": "stdout",
     "output_type": "stream",
     "text": [
      "1875/1875 [==============================] - 4s 2ms/step - loss: 0.0550 - accuracy: 0.9832\n"
     ]
    },
    {
     "data": {
      "text/plain": [
       "[0.05499739944934845, 0.9832000136375427]"
      ]
     },
     "execution_count": 250,
     "metadata": {},
     "output_type": "execute_result"
    }
   ],
   "source": [
    "model.evaluate(x_train.reshape(-1,28,28,1), y_train)"
   ]
  },
  {
   "cell_type": "code",
   "execution_count": 251,
   "metadata": {},
   "outputs": [
    {
     "name": "stdout",
     "output_type": "stream",
     "text": [
      "Model prediction: 9\n"
     ]
    },
    {
     "data": {
      "text/plain": [
       "<matplotlib.image.AxesImage at 0x7fc0c853dfd0>"
      ]
     },
     "execution_count": 251,
     "metadata": {},
     "output_type": "execute_result"
    },
    {
     "data": {
      "image/png": "[encoded data removed]",
      "text/plain": [
       "<Figure size 360x360 with 1 Axes>"
      ]
     },
     "metadata": {
      "needs_background": "light"
     },
     "output_type": "display_data"
    }
   ],
   "source": [
    "# classify image:\n",
    "k = 4\n",
    "image = x_train[k]\n",
    "y_predict = np.argmax(model.predict(image[None, :,:, None]))\n",
    "\n",
    "print(\"Model prediction:\", y_predict)\n",
    "plt.imshow(image.reshape(28, 28))"
   ]
  },
  {
   "cell_type": "markdown",
   "metadata": {},
   "source": [
    "# Save the model"
   ]
  },
  {
   "cell_type": "code",
   "execution_count": 252,
   "metadata": {},
   "outputs": [],
   "source": [
    "model.save(\"mnist.h5\")"
   ]
  },
  {
   "cell_type": "markdown",
   "metadata": {},
   "source": [
    "# Prune the model"
   ]
  },
  {
   "cell_type": "code",
   "execution_count": 132,
   "metadata": {},
   "outputs": [
    {
     "name": "stdout",
     "output_type": "stream",
     "text": [
      "end_step: 530\n"
     ]
    }
   ],
   "source": [
    "prune_low_magnitude = tfmot.sparsity.keras.prune_low_magnitude\n",
    "\n",
    "# Compute end step to finish pruning after 2 epochs.\n",
    "batch_size = 512\n",
    "epochs = 5\n",
    "validation_split = 0.1 # 10% of training set will be used for validation set. \n",
    "\n",
    "num_images = x_train.shape[0] * (1 - validation_split)\n",
    "end_step = np.ceil(num_images / batch_size).astype(np.int32) * epochs\n",
    "\n",
    "print(\"end_step:\", end_step)\n",
    "\n",
    "# Define model for pruning.\n",
    "pruning_params = {\n",
    "      'pruning_schedule': tfmot.sparsity.keras.PolynomialDecay(initial_sparsity=0.5,\n",
    "                                                               final_sparsity=0.20,\n",
    "                                                               begin_step=0,\n",
    "                                                               end_step=end_step)\n",
    "}\n",
    "\n",
    "raw_model = create_base_model()\n",
    "#raw_model.load_weights(pretrained_weights)\n",
    "\n",
    "model_pruned = prune_low_magnitude(raw_model, **pruning_params)\n",
    "\n",
    "# `prune_low_magnitude` requires a recompile.\n",
    "model_pruned.compile(loss='categorical_crossentropy', metrics=['accuracy'])\n",
    "\n",
    "#model_for_pruning.summary()"
   ]
  },
  {
   "cell_type": "code",
   "execution_count": 133,
   "metadata": {},
   "outputs": [
    {
     "name": "stdout",
     "output_type": "stream",
     "text": [
      "Epoch 1/5\n",
      "106/106 [==============================] - 2s 16ms/step - loss: 1.0188 - accuracy: 0.7054 - val_loss: 0.2907 - val_accuracy: 0.9215\n",
      "Epoch 2/5\n",
      "106/106 [==============================] - 2s 15ms/step - loss: 0.3313 - accuracy: 0.9059 - val_loss: 0.2175 - val_accuracy: 0.9392\n",
      "Epoch 3/5\n",
      "106/106 [==============================] - 2s 15ms/step - loss: 0.2502 - accuracy: 0.9284 - val_loss: 0.1627 - val_accuracy: 0.9560\n",
      "Epoch 4/5\n",
      "106/106 [==============================] - 2s 14ms/step - loss: 0.1876 - accuracy: 0.9450 - val_loss: 0.1324 - val_accuracy: 0.9628\n",
      "Epoch 5/5\n",
      "106/106 [==============================] - 1s 14ms/step - loss: 0.1500 - accuracy: 0.9563 - val_loss: 0.1216 - val_accuracy: 0.9657\n"
     ]
    },
    {
     "data": {
      "text/plain": [
       "<tensorflow.python.keras.callbacks.History at 0x7fd318d45160>"
      ]
     },
     "execution_count": 133,
     "metadata": {},
     "output_type": "execute_result"
    }
   ],
   "source": [
    "callbacks = [\n",
    "  tfmot.sparsity.keras.UpdatePruningStep(),\n",
    "  #tfmot.sparsity.keras.PruningSummaries(log_dir=\"log\")\n",
    "]\n",
    "\n",
    "model_pruned.fit(x_train.reshape(-1,28,28,1), y_train,\n",
    "                  batch_size=batch_size, epochs=epochs, validation_split=validation_split,\n",
    "                  callbacks=callbacks)\n",
    "\n",
    "\n",
    "#%tensorboard --logdir={\"log\"}"
   ]
  },
  {
   "cell_type": "code",
   "execution_count": 134,
   "metadata": {},
   "outputs": [],
   "source": [
    "model_pruned_export = tfmot.sparsity.keras.strip_pruning(model_pruned)"
   ]
  },
  {
   "cell_type": "code",
   "execution_count": 135,
   "metadata": {},
   "outputs": [
    {
     "name": "stdout",
     "output_type": "stream",
     "text": [
      "Layer:  0 Zero weights: 1639 / 8192\n",
      "Layer:  1 Zero weights: 3687 / 18432\n",
      "Layer:  2 Zero weights: 0 / 0\n",
      "Layer:  3 Zero weights: 512 / 2560\n",
      "Total 0-weights: 5838 / 29184  =>  20.004111842105264 %\n"
     ]
    }
   ],
   "source": [
    "total_weights = 0\n",
    "total_weights_0 = 0\n",
    "\n",
    "for idx, layer in enumerate(model_pruned.layers):\n",
    "    weights_layer = 0\n",
    "    weights_0 = 0\n",
    "    \n",
    "    if len(layer.weights) == 0:\n",
    "        continue\n",
    "\n",
    "    for weight in np.nditer(layer.weights):\n",
    "        if type(weight) != tuple:\n",
    "            continue\n",
    "\n",
    "        weights_layer += 1\n",
    "        if weight[0] == 0:\n",
    "            weights_0 += 1\n",
    "\n",
    "    print(\"Layer: \", idx, \"Zero weights:\", weights_0, \"/\", weights_layer)\n",
    "    total_weights += weights_layer\n",
    "    total_weights_0 += weights_0\n",
    "\n",
    "print(\"Total 0-weights:\", total_weights_0, \"/\", total_weights, \" => \", (total_weights_0 / total_weights) * 100, \"%\")"
   ]
  },
  {
   "cell_type": "markdown",
   "metadata": {},
   "source": [
    "# Quantize the model"
   ]
  },
  {
   "cell_type": "code",
   "execution_count": 96,
   "metadata": {},
   "outputs": [
    {
     "name": "stdout",
     "output_type": "stream",
     "text": [
      "INFO:tensorflow:Assets written to: /var/folders/vb/mchghtt9519g6bs7gqw029vm0000gn/T/tmpxpj3c0bn/assets\n"
     ]
    },
    {
     "name": "stderr",
     "output_type": "stream",
     "text": [
      "INFO:tensorflow:Assets written to: /var/folders/vb/mchghtt9519g6bs7gqw029vm0000gn/T/tmpxpj3c0bn/assets\n",
      "2022-01-12 17:42:25.481094: I tensorflow/core/grappler/devices.cc:78] Number of eligible GPUs (core count >= 8, compute capability >= 0.0): 0 (Note: TensorFlow was not compiled with CUDA or ROCm support)\n",
      "2022-01-12 17:42:25.481426: I tensorflow/core/grappler/clusters/single_machine.cc:356] Starting new session\n",
      "2022-01-12 17:42:25.483015: I tensorflow/core/grappler/optimizers/meta_optimizer.cc:928] Optimization results for grappler item: graph_to_optimize\n",
      "  function_optimizer: function_optimizer did nothing. time = 0.001ms.\n",
      "  function_optimizer: function_optimizer did nothing. time = 0ms.\n",
      "\n",
      "2022-01-12 17:42:25.676464: W tensorflow/compiler/mlir/lite/python/tf_tfl_flatbuffer_helpers.cc:316] Ignored output_format.\n",
      "2022-01-12 17:42:25.676481: W tensorflow/compiler/mlir/lite/python/tf_tfl_flatbuffer_helpers.cc:319] Ignored drop_control_dependency.\n"
     ]
    },
    {
     "data": {
      "text/plain": [
       "17872"
      ]
     },
     "execution_count": 96,
     "metadata": {},
     "output_type": "execute_result"
    }
   ],
   "source": [
    "def representative_dataset_gen():\n",
    "  for i in range(100):\n",
    "    yield [x_train[i].reshape(-1,28,28,1).astype(np.float32)]\n",
    "\n",
    "converter = tf.lite.TFLiteConverter.from_keras_model(model_pruned_export)\n",
    "#converter = tf.lite.TFLiteConverter.from_keras_model(model)\n",
    "\n",
    "# NOTE: The current version of TensorFlow appears to break the model when using optimizations\n",
    "#    You can try uncommenting the following if you would like to generate a smaller size .tflite model\n",
    "#converter.optimizations = [tf.lite.Optimize.OPTIMIZE_FOR_SIZE]\n",
    "converter.optimizations = [tf.lite.Optimize.DEFAULT]\n",
    "converter.representative_dataset = representative_dataset_gen\n",
    "converter.target_spec.supported_ops = [tf.lite.OpsSet.TFLITE_BUILTINS_INT8]\n",
    "tflite_model = converter.convert()\n",
    "open(\"model.tflite\", \"wb\").write(tflite_model)"
   ]
  },
  {
   "cell_type": "markdown",
   "metadata": {},
   "source": [
    "# Test the tflite model"
   ]
  },
  {
   "cell_type": "code",
   "execution_count": 97,
   "metadata": {},
   "outputs": [
    {
     "name": "stdout",
     "output_type": "stream",
     "text": [
      "== Input details ==\n",
      "name: conv1_input\n",
      "shape: [ 1 28 28  1]\n",
      "type: <class 'numpy.float32'>\n",
      "quantization scale: []\n",
      "quantization zero point: []\n",
      "\n",
      "== Output details ==\n",
      "name: Identity\n",
      "shape: [ 1 10]\n",
      "type: <class 'numpy.float32'>\n",
      "quantization scale: []\n",
      "quantization zero point: []\n",
      "\n",
      "DUMP INPUT\n",
      "{'name': 'conv1_input', 'index': 13, 'shape': array([ 1, 28, 28,  1], dtype=int32), 'shape_signature': array([-1, 28, 28,  1], dtype=int32), 'dtype': <class 'numpy.float32'>, 'quantization': (0.0, 0), 'quantization_parameters': {'scales': array([], dtype=float32), 'zero_points': array([], dtype=int32), 'quantized_dimension': 0}, 'sparsity_parameters': {}}\n",
      "\n",
      "DUMP OUTPUT\n",
      "{'name': 'Identity', 'index': 14, 'shape': array([ 1, 10], dtype=int32), 'shape_signature': array([-1, 10], dtype=int32), 'dtype': <class 'numpy.float32'>, 'quantization': (0.0, 0), 'quantization_parameters': {'scales': array([], dtype=float32), 'zero_points': array([], dtype=int32), 'quantized_dimension': 0}, 'sparsity_parameters': {}}\n"
     ]
    }
   ],
   "source": [
    "interpreter = tf.lite.Interpreter(model_path=\"model.tflite\")\n",
    "interpreter.allocate_tensors()\n",
    "\n",
    "input_details = interpreter.get_input_details()\n",
    "output_details = interpreter.get_output_details()\n",
    "\n",
    "input_quantization_parameters = input_details[0]['quantization_parameters']\n",
    "output_quantization_parameters = output_details[0]['quantization_parameters']\n",
    "\n",
    "print(\"== Input details ==\")\n",
    "print(\"name:\", interpreter.get_input_details()[0]['name'])\n",
    "print(\"shape:\", interpreter.get_input_details()[0]['shape'])\n",
    "print(\"type:\", interpreter.get_input_details()[0]['dtype'])\n",
    "print(\"quantization scale:\", input_quantization_parameters['scales'])\n",
    "print(\"quantization zero point:\", input_quantization_parameters['zero_points'])\n",
    "\n",
    "print(\"\\n== Output details ==\")\n",
    "print(\"name:\", interpreter.get_output_details()[0]['name'])\n",
    "print(\"shape:\", interpreter.get_output_details()[0]['shape'])\n",
    "print(\"type:\", interpreter.get_output_details()[0]['dtype'])\n",
    "print(\"quantization scale:\", output_quantization_parameters['scales'])\n",
    "print(\"quantization zero point:\", output_quantization_parameters['zero_points'])\n",
    "\n",
    "print(\"\\nDUMP INPUT\")\n",
    "print(interpreter.get_input_details()[0])\n",
    "print(\"\\nDUMP OUTPUT\")\n",
    "print(interpreter.get_output_details()[0])"
   ]
  },
  {
   "cell_type": "markdown",
   "metadata": {},
   "source": [
    "### Accuracy"
   ]
  },
  {
   "cell_type": "code",
   "execution_count": 98,
   "metadata": {},
   "outputs": [],
   "source": [
    "def predict(interpreter, input_data):\n",
    "    interpreter.set_tensor(input_details[0][\"index\"], input_data)\n",
    "    interpreter.invoke()\n",
    "    output_data = interpreter.get_tensor(output_details[0][\"index\"])\n",
    "    return output_data\n",
    "\n",
    "\n",
    "def measure_accuracy(interpreter, samples = len(x_train)):\n",
    "    output_data = []\n",
    "\n",
    "    for idx, sample in enumerate(x_train[:samples]):\n",
    "        input_data = np.array(sample, dtype=np.float32)\n",
    "        input_data = np.expand_dims(input_data, axis=0)\n",
    "        input_data = np.expand_dims(input_data, axis=3)\n",
    "        output_data.append(predict(interpreter, input_data))\n",
    "\n",
    "    a = [np.argmax(y, axis=None, out=None) for y in output_data]\n",
    "    b = [np.argmax(y, axis=None, out=None) for y in y_train[:samples]]\n",
    "\n",
    "    accuracy = (np.array(a) == np.array(b)).mean()\n",
    "    print(\"TFLite Accuracy:\", accuracy)"
   ]
  },
  {
   "cell_type": "code",
   "execution_count": 99,
   "metadata": {},
   "outputs": [
    {
     "name": "stdout",
     "output_type": "stream",
     "text": [
      "TFLite Accuracy: 0.417\n"
     ]
    }
   ],
   "source": [
    "measure_accuracy(interpreter, 1000)"
   ]
  },
  {
   "cell_type": "markdown",
   "metadata": {},
   "source": [
    "# Save .TFLite as C Array"
   ]
  },
  {
   "cell_type": "code",
   "execution_count": 100,
   "metadata": {},
   "outputs": [
    {
     "data": {
      "text/plain": [
       "110894"
      ]
     },
     "execution_count": 100,
     "metadata": {},
     "output_type": "execute_result"
    }
   ],
   "source": [
    "import binascii\n",
    "\n",
    "def convert_to_c_array(bytes) -> str:\n",
    "  hexstr = binascii.hexlify(bytes).decode(\"UTF-8\")\n",
    "  hexstr = hexstr.upper()\n",
    "  array = [\"0x\" + hexstr[i:i + 2] for i in range(0, len(hexstr), 2)]\n",
    "  array = [array[i:i+10] for i in range(0, len(array), 10)]\n",
    "  return \",\\n  \".join([\", \".join(e) for e in array])\n",
    "\n",
    "tflite_binary = open(\"model.tflite\", 'rb').read()\n",
    "ascii_bytes = convert_to_c_array(tflite_binary)\n",
    "c_file = \"alignas(8) const unsigned char g_model[] = {\\n  \" + ascii_bytes + \"\\n};\\nconst unsigned int g_model_len = \" + str(len(tflite_binary)) + \";\"\n",
    "open(\"model.h\", \"w\").write(c_file)"
   ]
  },
  {
   "cell_type": "markdown",
   "metadata": {},
   "source": [
    "# Pruning with kerassurgeon"
   ]
  },
  {
   "cell_type": "code",
   "execution_count": 8,
   "metadata": {},
   "outputs": [],
   "source": [
    "%load_ext autoreload\n",
    "%autoreload 2"
   ]
  },
  {
   "cell_type": "code",
   "execution_count": 110,
   "metadata": {},
   "outputs": [],
   "source": [
    "import kerassurgeon\n",
    "from kerassurgeon import operations\n",
    "from kerassurgeon import identify"
   ]
  },
  {
   "cell_type": "code",
   "execution_count": 196,
   "metadata": {},
   "outputs": [
    {
     "name": "stdout",
     "output_type": "stream",
     "text": [
      "conv1\n",
      "average_pooling2d_6\n",
      "conv2\n",
      "average_pooling2d_7\n",
      "flatten_7\n",
      "dense_13\n",
      "dense_14\n",
      "dense_15\n"
     ]
    }
   ],
   "source": [
    "for layer in model.layers:\n",
    "    print(layer.name)"
   ]
  },
  {
   "cell_type": "code",
   "execution_count": 259,
   "metadata": {},
   "outputs": [
    {
     "name": "stdout",
     "output_type": "stream",
     "text": [
      "(5, 5, 1, 6)\n",
      "(5, 5)\n",
      "Apoz: [0.10701988 0.20869658 0.05220846 0.70422753 0.11796962 0.1775104 ]\n",
      "High apoz: [3]\n"
     ]
    },
    {
     "data": {
      "image/png": "[encoded data removed]",
      "text/plain": [
       "<Figure size 360x360 with 1 Axes>"
      ]
     },
     "metadata": {
      "needs_background": "light"
     },
     "output_type": "display_data"
    },
    {
     "data": {
      "image/png": "[encoded data removed]",
      "text/plain": [
       "<Figure size 360x360 with 1 Axes>"
      ]
     },
     "metadata": {
      "needs_background": "light"
     },
     "output_type": "display_data"
    },
    {
     "data": {
      "image/png": "[encoded data removed]",
      "text/plain": [
       "<Figure size 360x360 with 1 Axes>"
      ]
     },
     "metadata": {
      "needs_background": "light"
     },
     "output_type": "display_data"
    },
    {
     "data": {
      "image/png": "[encoded data removed]",
      "text/plain": [
       "<Figure size 360x360 with 1 Axes>"
      ]
     },
     "metadata": {
      "needs_background": "light"
     },
     "output_type": "display_data"
    },
    {
     "data": {
      "image/png": "[encoded data removed]",
      "text/plain": [
       "<Figure size 360x360 with 1 Axes>"
      ]
     },
     "metadata": {
      "needs_background": "light"
     },
     "output_type": "display_data"
    },
    {
     "data": {
      "image/png": "[encoded data removed]",
      "text/plain": [
       "<Figure size 360x360 with 1 Axes>"
      ]
     },
     "metadata": {
      "needs_background": "light"
     },
     "output_type": "display_data"
    }
   ],
   "source": [
    "layer2 = model.get_layer(\"conv1\")\n",
    "print(np.shape(layer2.get_weights()[0]))\n",
    "print(np.shape(layer2.get_weights()[0][:,:,0,0]))\n",
    "\n",
    "apoz = kerassurgeon.identify.get_apoz(model, layer2, x_train)\n",
    "print(\"Apoz:\", apoz)\n",
    "high_apoz_channels = kerassurgeon.identify.high_apoz(apoz, \"both\")\n",
    "print(\"High apoz:\", high_apoz_channels)\n",
    "\n",
    "weights = layer2.get_weights()\n",
    "num_of_filters = layer2.filters\n",
    "\n",
    "for i in range(0, num_of_filters):\n",
    "    filter = weights[0][:,:,0,i]\n",
    "    plt.title(\"APOZ:\" + str(int(apoz[i] * 100)) + \"%\")\n",
    "    plt.suptitle(\"High apoz: \" + str(i in high_apoz_channels))\n",
    "    plt.imshow(filter, cmap=\"gray\")\n",
    "    plt.show()"
   ]
  },
  {
   "cell_type": "code",
   "execution_count": 158,
   "metadata": {},
   "outputs": [
    {
     "name": "stdout",
     "output_type": "stream",
     "text": [
      "(32,)\n"
     ]
    }
   ],
   "source": [
    "layer = model.get_layer(\"conv1\")\n",
    "apoz = kerassurgeon.identify.get_apoz(model, layer, x_train)\n",
    "print(np.shape(apoz))"
   ]
  },
  {
   "cell_type": "code",
   "execution_count": 91,
   "metadata": {},
   "outputs": [
    {
     "data": {
      "text/plain": [
       "array([ 0,  1,  8, 16, 18, 29, 31, 37])"
      ]
     },
     "execution_count": 91,
     "metadata": {},
     "output_type": "execute_result"
    }
   ],
   "source": [
    "high_apoz_channels = kerassurgeon.identify.high_apoz(apoz, \"both\")\n",
    "high_apoz_channels"
   ]
  },
  {
   "cell_type": "code",
   "execution_count": 92,
   "metadata": {},
   "outputs": [
    {
     "name": "stdout",
     "output_type": "stream",
     "text": [
      "Deleting 8/38 channels from layer: conv2\n"
     ]
    }
   ],
   "source": [
    "model_pruned_export = kerassurgeon.operations.delete_channels(model_pruned_export, layer, high_apoz_channels)"
   ]
  },
  {
   "cell_type": "code",
   "execution_count": 93,
   "metadata": {},
   "outputs": [
    {
     "name": "stdout",
     "output_type": "stream",
     "text": [
      "Model: \"model_22\"\n",
      "_________________________________________________________________\n",
      "Layer (type)                 Output Shape              Param #   \n",
      "=================================================================\n",
      "conv1_input (InputLayer)     [(None, 28, 28, 1)]       0         \n",
      "_________________________________________________________________\n",
      "conv1 (Conv2D)               (None, 4, 4, 22)          5654      \n",
      "_________________________________________________________________\n",
      "conv2 (Conv2D)               (None, 2, 2, 30)          5970      \n",
      "_________________________________________________________________\n",
      "flatten_1 (Flatten)          multiple                  0         \n",
      "_________________________________________________________________\n",
      "dense_1 (Dense)              (None, 10)                1210      \n",
      "=================================================================\n",
      "Total params: 12,834\n",
      "Trainable params: 12,834\n",
      "Non-trainable params: 0\n",
      "_________________________________________________________________\n"
     ]
    }
   ],
   "source": [
    "model_pruned_export.summary()"
   ]
  },
  {
   "cell_type": "code",
   "execution_count": 94,
   "metadata": {},
   "outputs": [
    {
     "name": "stdout",
     "output_type": "stream",
     "text": [
      "Epoch 1/5\n",
      "118/118 [==============================] - 2s 15ms/step - loss: 0.0309 - accuracy: 0.9907\n",
      "Epoch 2/5\n",
      "118/118 [==============================] - 2s 15ms/step - loss: 0.0282 - accuracy: 0.9914\n",
      "Epoch 3/5\n",
      "118/118 [==============================] - 2s 14ms/step - loss: 0.0258 - accuracy: 0.9925\n",
      "Epoch 4/5\n",
      "118/118 [==============================] - 2s 14ms/step - loss: 0.0234 - accuracy: 0.9930\n",
      "Epoch 5/5\n",
      "118/118 [==============================] - 2s 14ms/step - loss: 0.0212 - accuracy: 0.9940\n"
     ]
    },
    {
     "data": {
      "text/plain": [
       "Text(0, 0.5, 'Accuracy')"
      ]
     },
     "execution_count": 94,
     "metadata": {},
     "output_type": "execute_result"
    },
    {
     "data": {
      "image/png": "[encoded data removed]",
      "text/plain": [
       "<Figure size 360x360 with 1 Axes>"
      ]
     },
     "metadata": {
      "needs_background": "light"
     },
     "output_type": "display_data"
    }
   ],
   "source": [
    "# Fit the model:\n",
    "model_pruned_export.compile(optimizer='RMSprop',\n",
    "          loss='categorical_crossentropy',\n",
    "          metrics=['accuracy'])\n",
    "history = model.fit(x_train.reshape(-1,28,28,1), y_train, batch_size=512, epochs=5)\n",
    "plt.plot(history.history['accuracy'])\n",
    "plt.xlabel('Epoch')\n",
    "plt.ylabel('Accuracy')"
   ]
  },
  {
   "cell_type": "code",
   "execution_count": 95,
   "metadata": {},
   "outputs": [
    {
     "name": "stdout",
     "output_type": "stream",
     "text": [
      "1875/1875 [==============================] - 2s 855us/step - loss: 1.9760 - accuracy: 0.4428\n"
     ]
    },
    {
     "data": {
      "text/plain": [
       "[1.94682776927948, 0.445250004529953]"
      ]
     },
     "execution_count": 95,
     "metadata": {},
     "output_type": "execute_result"
    }
   ],
   "source": [
    "model_pruned_export.evaluate(x_train, y_train)"
   ]
  },
  {
   "cell_type": "code",
   "execution_count": 16,
   "metadata": {},
   "outputs": [],
   "source": [
    "from kerassurgeon import utils as k_utils"
   ]
  },
  {
   "cell_type": "code",
   "execution_count": 17,
   "metadata": {},
   "outputs": [
    {
     "data": {
      "text/plain": [
       "[0]"
      ]
     },
     "execution_count": 17,
     "metadata": {},
     "output_type": "execute_result"
    }
   ],
   "source": [
    "k_utils.find_nodes_in_model(model, model.get_layer(\"conv2\"))"
   ]
  },
  {
   "cell_type": "code",
   "execution_count": 18,
   "metadata": {},
   "outputs": [
    {
     "ename": "NameError",
     "evalue": "name 'filters' is not defined",
     "output_type": "error",
     "traceback": [
      "\u001b[0;31m---------------------------------------------------------------------------\u001b[0m",
      "\u001b[0;31mNameError\u001b[0m                                 Traceback (most recent call last)",
      "\u001b[0;32m/var/folders/vb/mchghtt9519g6bs7gqw029vm0000gn/T/ipykernel_1428/2799148197.py\u001b[0m in \u001b[0;36m<module>\u001b[0;34m\u001b[0m\n\u001b[1;32m      3\u001b[0m     \u001b[0;32mif\u001b[0m \u001b[0;34m'conv2'\u001b[0m \u001b[0;32min\u001b[0m \u001b[0mlayer\u001b[0m\u001b[0;34m.\u001b[0m\u001b[0mname\u001b[0m\u001b[0;34m:\u001b[0m\u001b[0;34m\u001b[0m\u001b[0;34m\u001b[0m\u001b[0m\n\u001b[1;32m      4\u001b[0m         \u001b[0mweights\u001b[0m\u001b[0;34m,\u001b[0m \u001b[0mbias\u001b[0m\u001b[0;34m=\u001b[0m \u001b[0mlayer\u001b[0m\u001b[0;34m.\u001b[0m\u001b[0mget_weights\u001b[0m\u001b[0;34m(\u001b[0m\u001b[0;34m)\u001b[0m\u001b[0;34m\u001b[0m\u001b[0;34m\u001b[0m\u001b[0m\n\u001b[0;32m----> 5\u001b[0;31m         \u001b[0mprint\u001b[0m\u001b[0;34m(\u001b[0m\u001b[0mlayer\u001b[0m\u001b[0;34m.\u001b[0m\u001b[0mname\u001b[0m\u001b[0;34m,\u001b[0m \u001b[0mfilters\u001b[0m\u001b[0;34m.\u001b[0m\u001b[0mshape\u001b[0m\u001b[0;34m)\u001b[0m\u001b[0;34m\u001b[0m\u001b[0;34m\u001b[0m\u001b[0m\n\u001b[0m\u001b[1;32m      6\u001b[0m \u001b[0;34m\u001b[0m\u001b[0m\n\u001b[1;32m      7\u001b[0m         \u001b[0;31m#normalize filter values between  0 and 1 for visualization\u001b[0m\u001b[0;34m\u001b[0m\u001b[0;34m\u001b[0m\u001b[0;34m\u001b[0m\u001b[0m\n",
      "\u001b[0;31mNameError\u001b[0m: name 'filters' is not defined"
     ]
    }
   ],
   "source": [
    "#Iterate thru all the layers of the model\n",
    "for layer in model_pruned_export.layers:\n",
    "    if 'conv2' in layer.name:\n",
    "        weights, bias= layer.get_weights()\n",
    "        print(layer.name, filters.shape)\n",
    "        \n",
    "        #normalize filter values between  0 and 1 for visualization\n",
    "        f_min, f_max = weights.min(), weights.max()\n",
    "        filters = (weights - f_min) / (f_max - f_min)  \n",
    "        print(filters.shape[3])\n",
    "        filter_cnt=1\n",
    "        \n",
    "        #plotting all the filters\n",
    "        for i in range(filters.shape[3]):\n",
    "            #get the filters\n",
    "            filt=filters[:,:,:, i]\n",
    "            #plotting each of the channel, color image RGB channels\n",
    "            for j in range(filters.shape[0]):\n",
    "                ax= plt.subplot(filters.shape[3], filters.shape[0], filter_cnt  )\n",
    "                ax.set_xticks([])\n",
    "                ax.set_yticks([])\n",
    "                plt.imshow(filt[:,:, j])\n",
    "                filter_cnt+=1\n",
    "        plt.show()"
   ]
  }
 ],
 "metadata": {
  "interpreter": {
   "hash": "0d1cd94cfed04ad9427ef807a2ad11acb0c84f064da073693db7977f8eb74254"
  },
  "kernelspec": {
   "display_name": "Python 3.8.12 64-bit ('test': conda)",
   "language": "python",
   "name": "python3"
  },
  "language_info": {
   "codemirror_mode": {
    "name": "ipython",
    "version": 3
   },
   "file_extension": ".py",
   "mimetype": "text/x-python",
   "name": "python",
   "nbconvert_exporter": "python",
   "pygments_lexer": "ipython3",
   "version": "3.8.12"
  },
  "orig_nbformat": 4
 },
 "nbformat": 4,
 "nbformat_minor": 2
}
